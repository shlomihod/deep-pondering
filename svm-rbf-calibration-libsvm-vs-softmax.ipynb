{
 "cells": [
  {
   "cell_type": "markdown",
   "metadata": {},
   "source": [
    "# Is using Softmax for calibrating SVM-RBF classifier better than the `libsvm` method (pairwise)?\n",
    "\n",
    "\n",
    "`libsvm`: Wu, Ting-Fan, Chih-Jen Lin, and Ruby C. Weng. [Probability estimates for multi-class classification by pairwise coupling](http://www.jmlr.org/papers/volume5/wu04a/wu04a.pdf). Journal of Machine Learning Research 5.Aug (2004)."
   ]
  },
  {
   "cell_type": "code",
   "execution_count": 1,
   "metadata": {},
   "outputs": [
    {
     "name": "stderr",
     "output_type": "stream",
     "text": [
      "Using TensorFlow backend.\n"
     ]
    }
   ],
   "source": [
    "import numpy as np\n",
    "import pandas as pd\n",
    "import matplotlib.pyplot as plt\n",
    "import seaborn as sns\n",
    "\n",
    "from sklearn.datasets import make_classification\n",
    "from sklearn.model_selection import train_test_split\n",
    "from sklearn.svm import SVC\n",
    "\n",
    "from keras.models import Sequential\n",
    "from keras.layers import Dense\n",
    "from keras.utils import to_categorical\n",
    "from keras.callbacks import EarlyStopping\n",
    "\n",
    "from livelossplot import PlotLossesKeras\n",
    "\n",
    "from tqdm import tqdm_notebook"
   ]
  },
  {
   "cell_type": "code",
   "execution_count": 2,
   "metadata": {},
   "outputs": [],
   "source": [
    "def generate_data(n_samples):\n",
    "    X, y = make_classification(n_samples=n_samples, n_features=3, n_redundant=0, n_informative=3,\n",
    "                                 n_clusters_per_class=1, n_classes=5)\n",
    "\n",
    "    X_train, X_test, y_train, y_test = train_test_split(X, y, test_size=0.2, random_state=42)\n",
    "    \n",
    "    return X, y, X_train, X_test, y_train, y_test\n",
    "\n",
    "# plt.scatter(X[:, 0], X[:, 1], marker='o', c=y,\n",
    "#            s=25, edgecolor='k')"
   ]
  },
  {
   "cell_type": "code",
   "execution_count": 3,
   "metadata": {},
   "outputs": [],
   "source": [
    "def calc_cross_entropy(X_train, y_train, X_test, y_test):\n",
    "    xe = {}\n",
    "    \n",
    "    clf = SVC(kernel='rbf', C=1, probability=True)\n",
    "    clf.fit(X_train, y_train)\n",
    "    \n",
    "    xe['acc'] = clf.score(X_test, y_test)\n",
    "    xe['libsvm'] = -np.mean([log_probs[index] for log_probs, index in zip(clf.predict_log_proba(X_test), y_test)])\n",
    "    \n",
    "\n",
    "    model = Sequential()\n",
    "    model.add(Dense(5, input_dim=10, activation='softmax'))\n",
    "\n",
    "    model.compile(optimizer='RMSprop', loss='categorical_crossentropy', metrics=['accuracy'])\n",
    "\n",
    "    model.fit(clf._dense_decision_function(X_train), to_categorical(y_train), epochs=50, validation_split=0.1,\n",
    "             callbacks=[EarlyStopping()], verbose=0)\n",
    "    \n",
    "    t = np.log(model.predict_proba(clf._dense_decision_function(X_test)))\n",
    "\n",
    "    xe['softmax'] = -np.mean([log_probs[index] for log_probs, index in zip(t, y_test)])\n",
    "    \n",
    "    return xe"
   ]
  },
  {
   "cell_type": "code",
   "execution_count": 4,
   "metadata": {},
   "outputs": [
    {
     "data": {
      "application/vnd.jupyter.widget-view+json": {
       "model_id": "692573fdfea44f348bd0204a4f3d8006",
       "version_major": 2,
       "version_minor": 0
      },
      "text/plain": [
       "HBox(children=(IntProgress(value=0, max=3), HTML(value='')))"
      ]
     },
     "metadata": {},
     "output_type": "display_data"
    },
    {
     "data": {
      "application/vnd.jupyter.widget-view+json": {
       "model_id": "496537deb2b6451fbe73ff80b84d9f78",
       "version_major": 2,
       "version_minor": 0
      },
      "text/plain": [
       "HBox(children=(IntProgress(value=0, max=20), HTML(value='')))"
      ]
     },
     "metadata": {},
     "output_type": "display_data"
    },
    {
     "data": {
      "application/vnd.jupyter.widget-view+json": {
       "model_id": "14c0409b0bc0461e94839d1155e1893e",
       "version_major": 2,
       "version_minor": 0
      },
      "text/plain": [
       "HBox(children=(IntProgress(value=0, max=20), HTML(value='')))"
      ]
     },
     "metadata": {},
     "output_type": "display_data"
    },
    {
     "data": {
      "application/vnd.jupyter.widget-view+json": {
       "model_id": "88eb9b844b3449eb9a51db870b8a0ad0",
       "version_major": 2,
       "version_minor": 0
      },
      "text/plain": [
       "HBox(children=(IntProgress(value=0, max=20), HTML(value='')))"
      ]
     },
     "metadata": {},
     "output_type": "display_data"
    },
    {
     "name": "stdout",
     "output_type": "stream",
     "text": [
      "\n"
     ]
    }
   ],
   "source": [
    "xes = []\n",
    "for n_samples in tqdm_notebook(10 ** np.arange(2, 5)):\n",
    "    for _ in tqdm_notebook(range(20)):\n",
    "        _, _, X_train, X_test, y_train, y_test = generate_data(n_samples)\n",
    "        xe = calc_cross_entropy(X_train, y_train, X_test, y_test)\n",
    "        xe['n_samples'] = n_samples\n",
    "        xes.append(xe)"
   ]
  },
  {
   "cell_type": "code",
   "execution_count": 5,
   "metadata": {},
   "outputs": [
    {
     "name": "stderr",
     "output_type": "stream",
     "text": [
      "/usr/local/lib/python3.5/dist-packages/scipy/stats/stats.py:1706: FutureWarning: Using a non-tuple sequence for multidimensional indexing is deprecated; use `arr[tuple(seq)]` instead of `arr[seq]`. In the future this will be interpreted as an array index, `arr[np.array(seq)]`, which will result either in an error or a different result.\n",
      "  return np.add.reduce(sorted[indexer] * weights, axis=axis) / sumval\n"
     ]
    },
    {
     "data": {
      "text/plain": [
       "<matplotlib.axes._subplots.AxesSubplot at 0x7f07a367a048>"
      ]
     },
     "execution_count": 5,
     "metadata": {},
     "output_type": "execute_result"
    },
    {
     "data": {
      "image/png": "[encoded data removed]",
      "text/plain": [
       "<Figure size 432x288 with 1 Axes>"
      ]
     },
     "metadata": {},
     "output_type": "display_data"
    }
   ],
   "source": [
    "df = pd.DataFrame(xes)[['n_samples', 'softmax', 'libsvm']]\n",
    "df_long = pd.melt(df, id_vars=['n_samples'], value_vars=['softmax', 'libsvm'])\n",
    "sns.barplot(x='n_samples', y='value', hue='variable', \n",
    "            data=df_long)"
   ]
  },
  {
   "cell_type": "markdown",
   "metadata": {},
   "source": [
    "# Verdict: No!\n",
    "# `libsvm` method is better!\n",
    "### However, softmax is differentiable, in case that is what we need."
   ]
  }
 ],
 "metadata": {
  "kernelspec": {
   "display_name": "Python 3",
   "language": "python",
   "name": "python3"
  },
  "language_info": {
   "codemirror_mode": {
    "name": "ipython",
    "version": 3
   },
   "file_extension": ".py",
   "mimetype": "text/x-python",
   "name": "python",
   "nbconvert_exporter": "python",
   "pygments_lexer": "ipython3",
   "version": "3.5.2"
  }
 },
 "nbformat": 4,
 "nbformat_minor": 2
}
